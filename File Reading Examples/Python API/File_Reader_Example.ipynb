{
 "cells": [
  {
   "cell_type": "markdown",
   "metadata": {},
   "source": [
    "# Delsys FileReaderAPI - Python Overview\n",
    "This document outlines how to directly read SHPF files within a python environment using Delsys' FileReaderAPI.\n",
    "You can run this jupyter notebook example or export to a python script if desired.\n",
    "    \n",
    "## Python Packages (see requirements.txt)\n",
    "1) ipykernel\n",
    "2) pythonnet\n",
    "3) numpy\n",
    "4) plotly\n",
    "5) pandas\n",
    "6) nbformat\n",
    "\n",
    "## How to export this notebook to a Python Script (if desired)\n",
    "\n",
    "1) Open a terminal and run:\n",
    "    ipython nbconvert --to python *.ipynb\n",
    "\n",
    "2) delete:\n",
    "    get_ipython().system('{sys.executable} -m pip install -r requirements.txt')\n",
    "\n",
    "3) wrap the example in a main() function.\n",
    "\n",
    "    def main():\n",
    "        # all your code here\n",
    "\n",
    "4) Add a __name__ function\n",
    "    if __name__ == \"__main__\":\n",
    "        # execute only if run as a script\n",
    "        main()"
   ]
  },
  {
   "cell_type": "markdown",
   "metadata": {},
   "source": [
    "# Python Example\n",
    "## Install requirements that are noted in the requirement.txt file"
   ]
  },
  {
   "cell_type": "code",
   "execution_count": null,
   "metadata": {},
   "outputs": [],
   "source": [
    "pip install -r requirements.txt"
   ]
  },
  {
   "cell_type": "markdown",
   "metadata": {},
   "source": [
    "## Setup the File Reader\n",
    "\n",
    "First import all dependencies and local python files. Then create the File Reader object"
   ]
  },
  {
   "cell_type": "code",
   "execution_count": null,
   "metadata": {},
   "outputs": [],
   "source": [
    "import os\n",
    "from Setup_Configuration import setup\n",
    "setup(os.path.join(os.getcwd(), \"dependencies\"))\n",
    "import glob\n",
    "import numpy as np\n",
    "import plotly.graph_objects as go\n",
    "from plotly.subplots import make_subplots\n",
    "from File_Reader import File_Reader\n",
    "from DelsysFile import DelsysFile\n",
    "from Component import Component\n",
    "from Channel import Channel\n",
    "\n",
    "#Read File\n",
    "fileReader = File_Reader()"
   ]
  },
  {
   "cell_type": "markdown",
   "metadata": {},
   "source": [
    "## Choosing a file to read\n",
    "You can read a file by calling the .Read() method and passing the full path to the shpf file.\n",
    "Calling the method ParsedFile() will return a file object that contains all the data from that file."
   ]
  },
  {
   "cell_type": "code",
   "execution_count": null,
   "metadata": {},
   "outputs": [],
   "source": [
    "filePath = os.path.join(os.getcwd(), \"Forearm_Pronation_Supination_1.delsys\")\n",
    "\n",
    "fileReader.readFile(filePath)\n",
    "\n",
    "fileReader.ParsedFile()\n",
    "\n",
    "\n",
    "fileType = fileReader.FileType()\n",
    "\n",
    "print(\"Loaded File: \" + filePath)\n"
   ]
  },
  {
   "cell_type": "markdown",
   "metadata": {},
   "source": [
    "## Navigating The File\n",
    "\n",
    "You can loop through trials, the sensors within the trial, and the channels within the sensor, by using indexing"
   ]
  },
  {
   "cell_type": "code",
   "execution_count": null,
   "metadata": {},
   "outputs": [],
   "source": [
    "gap = \"—— \"\n",
    "for i in range(fileReader.TrialCount()):\n",
    "    trial = fileReader.Trial(i)\n",
    "    print(\"Trial: \"+ trial.Name())\n",
    "    \n",
    "    for j in range(trial.ComponentCount()):\n",
    "        component = trial.Component(j)\n",
    "        print(gap + \"Component: \" + component.Name())\n",
    "        \n",
    "        for k in range(component.ChannelCount()):\n",
    "            channel = component.Channel(k)\n",
    "            print(gap + gap + \"Channel: \" + channel.Name())"
   ]
  },
  {
   "cell_type": "markdown",
   "metadata": {},
   "source": [
    "## Retrieving Data\n",
    "After the file is parsed all of the individual sensor component objects are stored in a list. The file provided with this example only has one sensor's data, therefore we will reference index 0 to retrieve the first component in that list. \n",
    "\n",
    "Get channel XY-data by calling GetChannelXyData(channel.Guid()) on the trial object\n",
    "\n",
    "Get channel data by calling .yData on the xyData object.\n",
    "\n",
    "Get channel time series data by calling .xData on xyData object."
   ]
  },
  {
   "cell_type": "code",
   "execution_count": null,
   "metadata": {},
   "outputs": [],
   "source": [
    "file = fileReader.Trial(0)\n",
    "component1 = file.Component(0)\n",
    "channel1 = component1.Channel(0)\n",
    "\n",
    "xyData = file.GetChannelXyData(channel1.Guid())\n",
    "channelydata = list(xyData.yData)\n",
    "channelxdata = list(xyData.xData)\n",
    "\n",
    "print(\"Trial Name: \" + file.Name())\n",
    "print(\"Component Name: \" + component1.Name())"
   ]
  },
  {
   "cell_type": "markdown",
   "metadata": {},
   "source": [
    "## Get all data from a component\n",
    "You can get all channel data (for a single sensor component) and other metadata with these method calls."
   ]
  },
  {
   "cell_type": "code",
   "execution_count": null,
   "metadata": {},
   "outputs": [],
   "source": [
    "data = component1.GetAllData()\n",
    "names = component1.GetAllChannelNames()\n",
    "sampleRates = component1.GetAllSampleRates()\n",
    "units = component1.GetAllUnits()\n",
    "\n",
    "print(\"Component Channel Data:\")\n",
    "for i in range(len(data)):\n",
    "    print(\"-- Channel: \" + names[i] +\n",
    "          \"  Sample Rate: \" + str(round(sampleRates[i], 2)) +\n",
    "          \"  Unit: \" + units[i] +\n",
    "          \"  Data Length: \" + str(len(data[i])))"
   ]
  },
  {
   "cell_type": "markdown",
   "metadata": {},
   "source": [
    "## Get data from a single channel \n",
    "Each component object contains a list of channel objects. This example will pull the first channel from component1 object. Each channel object has a variety of metadata along with all of the channel data. To see all of the metadata and methods associated with each channel object see Channel.py "
   ]
  },
  {
   "cell_type": "code",
   "execution_count": null,
   "metadata": {},
   "outputs": [],
   "source": [
    "channel1 = component1.Channel(0)\n",
    "print(\"Channel Name: \" + channel1.Name())"
   ]
  },
  {
   "cell_type": "markdown",
   "metadata": {},
   "source": [
    "## Plotting single channel of data\n",
    "The single channel of data plotted on its own figure"
   ]
  },
  {
   "cell_type": "code",
   "execution_count": null,
   "metadata": {},
   "outputs": [],
   "source": [
    "fig = make_subplots(rows=1, cols=1)\n",
    "fig.update_layout(\n",
    "title_text=channel1.Name()\n",
    ")\n",
    "\n",
    "#Single Channel PLot\n",
    "fig.add_trace(go.Scattergl(\n",
    "    x=channelxdata, \n",
    "    y=channelydata,\n",
    "    mode=\"lines\",\n",
    "    name=channel1.Name()\n",
    "))\n",
    "\n",
    "# Set x-axis title\n",
    "fig.update_xaxes(title_text=\"Time (s)\"\n",
    ")\n",
    "# Set y-axes titles\n",
    "fig.update_yaxes(title_text=channel1.Units()\n",
    ")"
   ]
  },
  {
   "cell_type": "markdown",
   "metadata": {},
   "source": [
    "## Plot all data from sensor component\n",
    "Here all of the data is plotted based on the channel type (EMG, ACC, GYRO)"
   ]
  },
  {
   "cell_type": "code",
   "execution_count": null,
   "metadata": {},
   "outputs": [],
   "source": [
    "#Loop through all channels and store each unique type in a list (EMG, ACC, GYRO)\n",
    "channel_types = []\n",
    "for i in range(component1.ChannelCount()):\n",
    "    if component1.Channel(i).ChannelType() not in channel_types:\n",
    "        channel_types.append(component1.Channel(i).ChannelType())\n",
    "\n",
    "#Create a new plot for each channel type\n",
    "fig = make_subplots(rows=len(channel_types), cols=1,\n",
    "                    shared_xaxes=True,\n",
    ")\n",
    "fig.update_layout(\n",
    "title_text=\"All Data\"\n",
    ")\n",
    "\n",
    "#Loop all unique channel types\n",
    "for i in range(len(channel_types)):\n",
    "\n",
    "    #Loop all channel data - if channel type matches, add the channel data to that plot\n",
    "    for k in range(component1.ChannelCount()):\n",
    "        if component1.Channel(k).ChannelType() == channel_types[i]:\n",
    "            #x-axes time values based on sampling rates\n",
    "            xyData = file.GetChannelXyData(component1.Channel(k).Guid())\n",
    "            data = list(xyData.yData)\n",
    "            time = list(xyData.xData)\n",
    "            #Add data\n",
    "            fig.add_trace(go.Scatter(x=time, y=data,\n",
    "                                mode=\"lines\",\n",
    "                                name=component1.Channel(k).Name()),\n",
    "                                row=i+1,\n",
    "                                col=1\n",
    "            )\n",
    "            # Set y-axes titles\n",
    "            fig.update_yaxes(title_text=units[k],\n",
    "                row=i+1,\n",
    "                col=1\n",
    "            )\n",
    "\n",
    "fig.update_xaxes(title_text=\"Time (s)\", row=len(channel_types), col=1)\n",
    "fig.show()"
   ]
  },
  {
   "cell_type": "markdown",
   "metadata": {},
   "source": [
    "## Close Files\n",
    "Data from the files is dynamically loaded, meaning the files are left open until explicitly closed"
   ]
  },
  {
   "cell_type": "code",
   "execution_count": null,
   "metadata": {},
   "outputs": [],
   "source": [
    "fileReader.Close()\n",
    "print (\"Closed\")"
   ]
  }
 ],
 "metadata": {
  "kernelspec": {
   "display_name": "Python 3 (ipykernel)",
   "language": "python",
   "name": "python3"
  },
  "language_info": {
   "codemirror_mode": {
    "name": "ipython",
    "version": 3
   },
   "file_extension": ".py",
   "mimetype": "text/x-python",
   "name": "python",
   "nbconvert_exporter": "python",
   "pygments_lexer": "ipython3",
   "version": "3.8.20"
  },
  "vscode": {
   "interpreter": {
    "hash": "51916db3b4fb1ea11750ea5bca50433827576fcc6cd777c573ecbf393356f35c"
   }
  }
 },
 "nbformat": 4,
 "nbformat_minor": 4
}
