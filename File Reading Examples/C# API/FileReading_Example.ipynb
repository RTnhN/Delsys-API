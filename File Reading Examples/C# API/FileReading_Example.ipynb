{
 "cells": [
  {
   "cell_type": "markdown",
   "metadata": {},
   "source": [
    "# __Delsys FileReaderAPI - C# .NET Overview__\n",
    "This document outlines how to directly read SHPF files within a .NET Interactive environment using Delsys' FileReaderAPI\n",
    "\n",
    "## __Requirements__\n",
    "1) .NET 6 SDK https://dotnet.microsoft.com/download/dotnet/6.0\n",
    "2) .NET Interactive Notebooks https://marketplace.visualstudio.com/items?itemName=ms-dotnettools.dotnet-interactive-vscode\n"
   ]
  },
  {
   "cell_type": "markdown",
   "metadata": {},
   "source": [
    "## Load File Reader Dll from Trigno Discover's Program files\n",
    "Loads the dll file and Plotly.NET needed to perform the reading and plotting/graphing task."
   ]
  },
  {
   "cell_type": "code",
   "execution_count": null,
   "metadata": {
    "dotnet_interactive": {
     "language": "csharp"
    },
    "vscode": {
     "languageId": "dotnet-interactive.csharp"
    }
   },
   "outputs": [],
   "source": [
    "#r \"Delsys.FileManager.dll\"\n",
    "#r \"nuget: Plotly.NET, 2.0.0\"\n",
    "#r \"nuget: Microsoft.EntityFrameworkCore.Design, 5.0.17\"\n",
    "#r \"nuget: Microsoft.EntityFrameworkCore.Sqlite, 5.0.17\"\n",
    "#r \"nuget: Microsoft.EntityFrameworkCore.Tools, 5.0.17\""
   ]
  },
  {
   "cell_type": "markdown",
   "metadata": {},
   "source": [
    "## Setup the File Reader\n",
    "\n",
    "First import File Reader, then initalize the DotDelsysFileReader by passing the shpf/.delsys file location."
   ]
  },
  {
   "cell_type": "code",
   "execution_count": null,
   "metadata": {
    "dotnet_interactive": {
     "language": "csharp"
    },
    "vscode": {
     "languageId": "dotnet-interactive.csharp"
    }
   },
   "outputs": [],
   "source": [
    "using FileReader;\n",
    "using FileReader.Shpf.Models;\n",
    "using Delsys.FileManager.Reader;\n",
    "\n",
    "string shpffile = \"Forearm_Pronation_Supination_1.delsys\";\n",
    "DelsysFileReader reader = new DelsysFileReader(shpffile);\n",
    "IReadOnlyList<DelsysTrial> files = reader.OpenFile();"
   ]
  },
  {
   "cell_type": "markdown",
   "metadata": {},
   "source": [
    "## Navigating The File\n",
    "You can loop through trials, the sensors within the trial, and the channels within the sensor, by using indexing"
   ]
  },
  {
   "cell_type": "code",
   "execution_count": null,
   "metadata": {
    "dotnet_interactive": {
     "language": "csharp"
    },
    "vscode": {
     "languageId": "dotnet-interactive.csharp"
    }
   },
   "outputs": [],
   "source": [
    "using Delsys.FileManager.FileRepository.Reader.TrialFiles;\n",
    "\n",
    "string gap = \"—— \";\n",
    "foreach (DelsysTrial trial in files) {\n",
    "    System.Console.WriteLine(\"Trial: \" + trial.Trial.Name);\n",
    "    \n",
    "    foreach (TrialComponent component in trial.Trial.Components) {\n",
    "        System.Console.WriteLine(gap + \"Component: \" + component.Name);\n",
    "        \n",
    "        foreach (TrialChannel channel in component.Channels) {\n",
    "            System.Console.WriteLine(gap + gap + \"Channel: \" + channel.Name);\n",
    "        }\n",
    "    }\n",
    "}"
   ]
  },
  {
   "cell_type": "markdown",
   "metadata": {},
   "source": [
    "## Retrieving Data\n",
    "After the file is parsed all of the individual sensor component objects are stored in a list. The file provided with this example only has one sensor's data, therefore we will reference index 0 to retrieve the first component in that list. If more sensors were used during a collection, you may loop through the sensor objects by using the total number of sensors in the file. To see all of the metadata and methods associated with each component object see IFileComponent Interface located at FileReader.Interface"
   ]
  },
  {
   "cell_type": "code",
   "execution_count": null,
   "metadata": {
    "dotnet_interactive": {
     "language": "csharp"
    },
    "vscode": {
     "languageId": "dotnet-interactive.csharp"
    }
   },
   "outputs": [],
   "source": [
    "DelsysTrial file = files[0]; \n",
    "List<TrialComponent> components = file.Trial.Components;\n",
    "\n",
    "TrialComponent component1 = components[0];\n",
    "System.Console.WriteLine(\"Component Name: \" + component1.Name);"
   ]
  },
  {
   "cell_type": "markdown",
   "metadata": {},
   "source": [
    "## Get data from a single channel \n",
    "Each component object contains a list of channel objects. This example will pull the first channel from component1 object. Each channel object has a variety of metadata along with all of the channel data. To see all of the metadata and methods associated with each channel object see IFileChannel Interface located at FileReader.Interface"
   ]
  },
  {
   "cell_type": "code",
   "execution_count": null,
   "metadata": {
    "dotnet_interactive": {
     "language": "csharp"
    },
    "vscode": {
     "languageId": "dotnet-interactive.csharp"
    }
   },
   "outputs": [],
   "source": [
    "TrialChannel channel1 = component1.Channels[0];\n",
    "System.Console.WriteLine(\"Channel Name: \" + channel1.Name);"
   ]
  },
  {
   "cell_type": "markdown",
   "metadata": {},
   "source": [
    "## Get all data from a component\n",
    "You can get all channel data (for a single sensor component) and other metadata with these method calls."
   ]
  },
  {
   "cell_type": "code",
   "execution_count": null,
   "metadata": {
    "dotnet_interactive": {
     "language": "csharp"
    },
    "vscode": {
     "languageId": "dotnet-interactive.csharp"
    }
   },
   "outputs": [],
   "source": [
    "List<double> xseries = file.Trial.GetChannelTimeSeries(channel1.GuidString);\n",
    "Dictionary<Guid, (ushort Offset, List<double> Samples)>[] channelData = file.Trial.DataStream.GetData(0, file.Trial.DataStream.TotalNumConcatenatedFrames, new Guid[] {channel1.Guid});\n",
    "List<double> yseries = new List<double>();\n",
    "\n",
    "for(int i=0; i < channelData.Count(); i++){\n",
    "    foreach (double sample in channelData[i][channel1.Guid].Samples){\n",
    "        yseries.Add(sample);\n",
    "    }\n",
    "}\n",
    "\n",
    "string channelName = channel1.Name;\n",
    "double channelSampleRate = channel1.SampleRate;\n",
    "string channelUnits = Enum.GetName(typeof(FileReader.Shpf.Enums.Unit), channel1.Units);\n",
    "\n",
    "System.Console.WriteLine(\"Channel: \" + channelName);\n",
    "System.Console.WriteLine(\"  Sample Rate: \" + channelSampleRate.ToString());\n",
    "System.Console.WriteLine(\"  Units: \" + channelUnits);\n",
    "System.Console.WriteLine(\"  Data Length: \" + yseries.Count.ToString());\n"
   ]
  },
  {
   "cell_type": "markdown",
   "metadata": {},
   "source": [
    "## Plotting single channel of data\n",
    "Here the EMG data is plotted on its own figure"
   ]
  },
  {
   "cell_type": "code",
   "execution_count": null,
   "metadata": {
    "dotnet_interactive": {
     "language": "csharp"
    },
    "vscode": {
     "languageId": "dotnet-interactive.csharp"
    }
   },
   "outputs": [],
   "source": [
    "using Plotly.NET;\n",
    "using Plotly.NET.LayoutObjects;\n",
    "\n",
    "// Calculates the time axis for first channel based on channel sample rate\n",
    "\n",
    "// Set x-axis\n",
    "LinearAxis xAxis = new LinearAxis();\n",
    "xAxis.SetValue(\"title\", \"Time (s)\");\n",
    "\n",
    "// Set y-axis\n",
    "LinearAxis yAxis = new LinearAxis();\n",
    "yAxis.SetValue(\"title\", Enum.GetName(typeof(FileReader.Shpf.Enums.Unit), channel1.Units));\n",
    "\n",
    "// Create plot layout\n",
    "Layout layout = new Layout();\n",
    "layout.SetValue(\"xaxis\", xAxis);\n",
    "layout.SetValue(\"yaxis\", yAxis);\n",
    "layout.SetValue(\"title\", channel1.Name);\n",
    "\n",
    "// Set plot data\n",
    "Trace trace = new Trace(\"scatter\");\n",
    "trace.SetValue(\"x\", xseries);\n",
    "trace.SetValue(\"y\", yseries);\n",
    "trace.SetValue(\"mode\", \"lines\");\n",
    "\n",
    "// Show plot\n",
    "GenericChart\n",
    "    .ofTraceObject(true, trace)\n",
    "    .WithLayout(layout)\n",
    "    .Show();"
   ]
  },
  {
   "cell_type": "markdown",
   "metadata": {},
   "source": [
    "## Plot all data from sensor component\n",
    "Here all of the data is plotted based on the channel type (EMG, ACC, GYRO)"
   ]
  },
  {
   "cell_type": "code",
   "execution_count": null,
   "metadata": {
    "dotnet_interactive": {
     "language": "csharp"
    },
    "vscode": {
     "languageId": "dotnet-interactive.csharp"
    }
   },
   "outputs": [],
   "source": [
    "List<string> channel_types = new List<string>();\n",
    "for (int i=0;i<component1.Channels.Count(); i++){\n",
    "    if (channel_types.Contains(component1.Channels[i].ChannelType.ToString())){\n",
    "        continue;\n",
    "    }\n",
    "    else{\n",
    "        channel_types.Add(component1.Channels[i].ChannelType.ToString());\n",
    "    }\n",
    "}\n",
    "\n",
    "List<List<GenericChart.GenericChart>> plots = new List<List<GenericChart.GenericChart>>();\n",
    "\n",
    "//Loop all unique channel types\n",
    "for (int i=0; i<channel_types.Count(); i++)\n",
    "{\n",
    "    List<GenericChart.GenericChart> uniqueTypePlot = new List<GenericChart.GenericChart>();\n",
    "\n",
    "    LinearAxis xAxis = new LinearAxis();\n",
    "    xAxis.SetValue(\"title\", \"Time (s)\");\n",
    "    \n",
    "    //Loop all channel data - if channel type matches, add the channel data to that plot\n",
    "    for (int k=0; k<component1.Channels.Count(); k++)\n",
    "    {\n",
    "        if (component1.Channels[k].ChannelType.ToString() == channel_types[i])\n",
    "        {\n",
    "            Dictionary<Guid, (ushort Offset, List<double> Samples)>[] channelData = file.Trial.DataStream.GetData(0, file.Trial.DataStream.TotalNumConcatenatedFrames, new Guid[] {component1.Channels[k].Guid});\n",
    "            List<double> yseries = new List<double>();\n",
    "\n",
    "            for(int j=0; j < channelData.Count(); j++){\n",
    "                foreach (double sample in channelData[j][component1.Channels[k].Guid].Samples){\n",
    "                    yseries.Add(sample);\n",
    "                }\n",
    "            }\n",
    "\n",
    "            Trace trace = new Trace(\"scatter\");\n",
    "            trace.SetValue(\"x\", xseries);\n",
    "            trace.SetValue(\"y\", yseries);\n",
    "            trace.SetValue(\"mode\", \"lines\");\n",
    "            \n",
    "            trace.SetValue(\"name\", component1.Channels[k].Name);\n",
    "\n",
    "            LinearAxis yAxis = new LinearAxis();\n",
    "            yAxis.SetValue(\"title\", Enum.GetName(typeof(FileReader.Shpf.Enums.Unit), component1.Channels[k].Units));\n",
    "\n",
    "            Layout layout = new Layout();\n",
    "            layout.SetValue(\"xaxis\", xAxis);\n",
    "            layout.SetValue(\"yaxis\", yAxis);\n",
    "            layout.SetValue(\"showlegend\", true);\n",
    "            layout.SetValue(\"title\", channel_types[i]);\n",
    "\n",
    "            var plotPart = GenericChart.ofTraceObject(true, trace).WithLayout(layout);\n",
    "            uniqueTypePlot.Add(plotPart);\n",
    "        }\n",
    "    }\n",
    "    plots.Add(uniqueTypePlot);\n",
    "}\n",
    "\n",
    "for (int i = 0; i<plots.Count(); i++)\n",
    "{\n",
    "    var plot = Plotly.NET.Chart.Combine(plots[i]);\n",
    "    plot.Show();\n",
    "}"
   ]
  },
  {
   "cell_type": "markdown",
   "metadata": {},
   "source": [
    "## Close File\n"
   ]
  },
  {
   "cell_type": "code",
   "execution_count": null,
   "metadata": {},
   "outputs": [],
   "source": [
    "reader.Close()"
   ]
  }
 ],
 "metadata": {
  "interpreter": {
   "hash": "0a4a30773c47f9199ce658b6553e9fd54bd59baf2127c9ed1c1f5041f011b506"
  },
  "kernelspec": {
   "display_name": ".NET (C#)",
   "language": "C#",
   "name": ".net-csharp"
  },
  "language_info": {
   "file_extension": ".cs",
   "mimetype": "text/x-csharp",
   "name": "C#",
   "pygments_lexer": "csharp",
   "version": "12.0"
  }
 },
 "nbformat": 4,
 "nbformat_minor": 4
}
